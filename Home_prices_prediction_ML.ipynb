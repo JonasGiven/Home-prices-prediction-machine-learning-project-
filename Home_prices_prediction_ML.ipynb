{
  "nbformat": 4,
  "nbformat_minor": 0,
  "metadata": {
    "colab": {
      "private_outputs": true,
      "provenance": [],
      "toc_visible": true,
      "authorship_tag": "ABX9TyOD4YN4dr1Fxq5pScrS9NBO",
      "include_colab_link": true
    },
    "kernelspec": {
      "name": "python3",
      "display_name": "Python 3"
    },
    "language_info": {
      "name": "python"
    }
  },
  "cells": [
    {
      "cell_type": "markdown",
      "metadata": {
        "id": "view-in-github",
        "colab_type": "text"
      },
      "source": [
        "<a href=\"https://colab.research.google.com/github/JonasGiven/Home-prices-prediction-machine-learning-project-/blob/main/Home_prices_prediction_ML.ipynb\" target=\"_parent\"><img src=\"https://colab.research.google.com/assets/colab-badge.svg\" alt=\"Open In Colab\"/></a>"
      ]
    },
    {
      "cell_type": "markdown",
      "source": [
        "# **Home price predictions**\n",
        " Using linear regression machine learning model."
      ],
      "metadata": {
        "id": "njkRyL4VviC5"
      }
    },
    {
      "cell_type": "markdown",
      "source": [
        "## **1. Data preprocessing**\n",
        "\n",
        "Due to the **NaN** value of which in this case it is safe to assume that it takes the median value of the bedrooms column."
      ],
      "metadata": {
        "id": "rNp36WO1v3Gq"
      }
    },
    {
      "cell_type": "code",
      "execution_count": null,
      "metadata": {
        "id": "ZvCd3zPbtEA9"
      },
      "outputs": [],
      "source": [
        "import pandas as pd\n",
        "df_homeprices = pd.read_csv('/content/homeprices 2024-05-23 18_32_12.csv')\n",
        "df_homeprices"
      ]
    },
    {
      "cell_type": "code",
      "source": [
        "import numpy as np\n",
        "from sklearn import linear_model"
      ],
      "metadata": {
        "id": "zGJMAuER45ou"
      },
      "execution_count": null,
      "outputs": []
    },
    {
      "cell_type": "code",
      "source": [
        "#NaN value\n",
        "df_median_bedrooms = df_homeprices.bedrooms.median()\n",
        "df_median_bedrooms"
      ],
      "metadata": {
        "id": "KfKPnY685ZrD"
      },
      "execution_count": null,
      "outputs": []
    },
    {
      "cell_type": "code",
      "source": [
        "#Replacing NaN with median value\n",
        "df_homeprices.bedrooms.fillna(df_median_bedrooms, inplace=True)\n",
        "df_homeprices"
      ],
      "metadata": {
        "id": "yg-vOvOW6WC1"
      },
      "execution_count": null,
      "outputs": []
    },
    {
      "cell_type": "markdown",
      "source": [
        "## **2. Linear model training**\n",
        "Use SKlearn"
      ],
      "metadata": {
        "id": "A-JOH7IX7xvO"
      }
    },
    {
      "cell_type": "code",
      "source": [
        "#create linear regression object using linear model\n",
        "reg = linear_model.LinearRegression()\n",
        "#use the fit method to train the model\n",
        "reg.fit(df_homeprices[['area','bedrooms','age']],df_homeprices.price)\n",
        "#now model is ready"
      ],
      "metadata": {
        "id": "A1VBm8SC8AWI"
      },
      "execution_count": null,
      "outputs": []
    },
    {
      "cell_type": "code",
      "source": [
        "#let us take a look of the coefficients, prices=m1*area + m2*bedrooms +m3*age + b\n",
        "reg.coef_"
      ],
      "metadata": {
        "id": "gn2xP6NE9vgt"
      },
      "execution_count": null,
      "outputs": []
    },
    {
      "cell_type": "code",
      "source": [
        "reg.intercept_"
      ],
      "metadata": {
        "id": "7c5hGUnA-aZk"
      },
      "execution_count": null,
      "outputs": []
    },
    {
      "cell_type": "markdown",
      "source": [
        "## **2.1 Predictions**\n",
        "\n",
        "Given these home prices find out price of a home that has,\n",
        "\n",
        "3000 sqr ft area, 3 bedrooms, 40 years old <br/>\n",
        "2500 sqr ft area, 4 bedrooms, 5 years"
      ],
      "metadata": {
        "id": "CBCmo2Hh_ax6"
      }
    },
    {
      "cell_type": "code",
      "source": [
        "#3000 sqr ft area, 3 bedrooms, 40 years\n",
        "reg.predict([[3000,3,40]])"
      ],
      "metadata": {
        "id": "6Zf7V4Iy_-Zp"
      },
      "execution_count": null,
      "outputs": []
    },
    {
      "cell_type": "code",
      "source": [
        "#2500 sqr ft area, 4 bedrooms, 5 years\n",
        "reg.predict([[2500, 4, 5]])"
      ],
      "metadata": {
        "id": "aNI8_cCdAZTo"
      },
      "execution_count": null,
      "outputs": []
    }
  ]
}